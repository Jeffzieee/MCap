{
 "cells": [
  {
   "cell_type": "code",
   "execution_count": 9,
   "metadata": {},
   "outputs": [],
   "source": [
    "#Dependancies\n",
    "import numpy as np\n",
    "import pandas as pd\n",
    "from matplotlib import pyplot as plt\n",
    "from sklearn.ensemble import RandomForestClassifier \n",
    "from sklearn.model_selection import train_test_split as tts\n",
    "%matplotlib inline"
   ]
  },
  {
   "cell_type": "code",
   "execution_count": 2,
   "metadata": {},
   "outputs": [
    {
     "name": "stdout",
     "output_type": "stream",
     "text": [
      "   7  0  0.1  0.2  0.3  0.4  0.5  0.6  0.7  0.8  ...  0.658  0.659  0.660  \\\n",
      "0  2  0    0    0    0    0    0    0    0    0  ...      0      0      0   \n",
      "1  1  0    0    0    0    0    0    0    0    0  ...      0      0      0   \n",
      "2  0  0    0    0    0    0    0    0    0    0  ...      0      0      0   \n",
      "3  4  0    0    0    0    0    0    0    0    0  ...      0      0      0   \n",
      "4  1  0    0    0    0    0    0    0    0    0  ...      0      0      0   \n",
      "\n",
      "   0.661  0.662  0.663  0.664  0.665  0.666  0.667  \n",
      "0      0      0      0      0      0      0      0  \n",
      "1      0      0      0      0      0      0      0  \n",
      "2      0      0      0      0      0      0      0  \n",
      "3      0      0      0      0      0      0      0  \n",
      "4      0      0      0      0      0      0      0  \n",
      "\n",
      "[5 rows x 785 columns]\n"
     ]
    }
   ],
   "source": [
    "db=pd.read_csv('mnist.csv')\n",
    "print(db.head())"
   ]
  },
  {
   "cell_type": "code",
   "execution_count": 3,
   "metadata": {},
   "outputs": [
    {
     "name": "stdout",
     "output_type": "stream",
     "text": [
      "AxesImage(54,36;334.8x217.44)\n"
     ]
    },
    {
     "data": {
      "image/png": "[encoded data removed]",
      "text/plain": [
       "<Figure size 432x288 with 1 Axes>"
      ]
     },
     "metadata": {
      "needs_background": "light"
     },
     "output_type": "display_data"
    }
   ],
   "source": [
    "#Data extraction from dataset\n",
    "e=db.iloc[3,1:].values\n",
    "#reshaping the extracted data\n",
    "a=e.reshape(28,28).astype('uint8')\n",
    "print(plt.imshow(a))"
   ]
  },
  {
   "cell_type": "code",
   "execution_count": 8,
   "metadata": {},
   "outputs": [
    {
     "data": {
      "text/plain": [
       "4983    1\n",
       "6789    3\n",
       "2221    3\n",
       "6043    1\n",
       "1564    0\n",
       "Name: 7, dtype: int64"
      ]
     },
     "execution_count": 8,
     "metadata": {},
     "output_type": "execute_result"
    }
   ],
   "source": [
    "#preping data\n",
    "#separatingthe labels and data(pixels)\n",
    "df_x = db.iloc[:,1:]\n",
    "df_y = db.iloc[:,0]\n",
    "#creating test and train sizes\n",
    "x_train, x_test, y_train, y_test = tts(df_x,df_y,test_size = 0.2, random_state = 4)\n",
    "#checking x\n",
    "x_train.head()\n",
    "#checking y\n",
    "y_train.head()"
   ]
  },
  {
   "cell_type": "code",
   "execution_count": 12,
   "metadata": {},
   "outputs": [
    {
     "data": {
      "text/plain": [
       "RandomForestClassifier(bootstrap=True, class_weight=None, criterion='gini',\n",
       "                       max_depth=None, max_features='auto', max_leaf_nodes=None,\n",
       "                       min_impurity_decrease=0.0, min_impurity_split=None,\n",
       "                       min_samples_leaf=1, min_samples_split=2,\n",
       "                       min_weight_fraction_leaf=0.0, n_estimators=100,\n",
       "                       n_jobs=None, oob_score=False, random_state=None,\n",
       "                       verbose=0, warm_start=False)"
      ]
     },
     "execution_count": 12,
     "metadata": {},
     "output_type": "execute_result"
    }
   ],
   "source": [
    "#calling RandomForestClassifier\n",
    "rf = RandomForestClassifier(n_estimators=100)\n",
    "#fitting the models \n",
    "rf.fit(x_train,y_train)"
   ]
  },
  {
   "cell_type": "code",
   "execution_count": 13,
   "metadata": {},
   "outputs": [
    {
     "data": {
      "text/plain": [
       "array([2, 2, 2, ..., 0, 9, 2], dtype=int64)"
      ]
     },
     "execution_count": 13,
     "metadata": {},
     "output_type": "execute_result"
    }
   ],
   "source": [
    "#Prediction of test data\n",
    "pred=rf.predict(x_test)\n",
    "pred"
   ]
  },
  {
   "cell_type": "code",
   "execution_count": 20,
   "metadata": {},
   "outputs": [
    {
     "name": "stdout",
     "output_type": "stream",
     "text": [
      "The accuracy count is\n",
      "1894\n",
      "The total value of prediction is\n",
      "2000\n",
      "The prediction accuracy is\n",
      "94.69999999999999\n"
     ]
    }
   ],
   "source": [
    "#checking prediction accuracy\n",
    "s=y_test.values\n",
    "#using for loop\n",
    "count=0\n",
    "for i in range(len(pred)):\n",
    "    if(pred[i]==s[i]):\n",
    "        count+=1\n",
    "print(\"The accuracy count is\")\n",
    "print(count)\n",
    "#total accuracy value\n",
    "print(\"The total value of prediction is\")\n",
    "total=len(pred)\n",
    "print(total)\n",
    "print(\"The prediction accuracy is\")\n",
    "acc=count/total*100\n",
    "print(acc)"
   ]
  },
  {
   "cell_type": "code",
   "execution_count": null,
   "metadata": {},
   "outputs": [],
   "source": []
  }
 ],
 "metadata": {
  "kernelspec": {
   "display_name": "Python 3",
   "language": "python",
   "name": "python3"
  },
  "language_info": {
   "codemirror_mode": {
    "name": "ipython",
    "version": 3
   },
   "file_extension": ".py",
   "mimetype": "text/x-python",
   "name": "python",
   "nbconvert_exporter": "python",
   "pygments_lexer": "ipython3",
   "version": "3.7.6"
  }
 },
 "nbformat": 4,
 "nbformat_minor": 4
}
